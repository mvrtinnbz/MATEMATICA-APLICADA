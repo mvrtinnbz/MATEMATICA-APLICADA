{
  "cells": [
    {
      "cell_type": "markdown",
      "metadata": {
        "id": "Jsg7AmugfdN3"
      },
      "source": [
        "# Problema 1"
      ]
    },
    {
      "cell_type": "markdown",
      "metadata": {
        "id": "_IzpNklvfgKe"
      },
      "source": [
        "Considere la sucesión $a_{n} = 3n^{2} + 7$. Por medio de un código en *Python* despliega en pantalla:\n",
        "\n",
        "1. Los primeros $5$ términos.\n",
        "2. Los $5$ términos que vienen inmediatamente después del decimoquinto término."
      ]
    },
    {
      "cell_type": "code",
      "execution_count": 7,
      "metadata": {},
      "outputs": [
        {
          "name": "stdout",
          "output_type": "stream",
          "text": [
            "Respuesta 1\n",
            "El termino 1 es 10. \n",
            "El termino 2 es 19. \n",
            "El termino 3 es 34. \n",
            "El termino 4 es 55. \n",
            "El termino 5 es 82. \n",
            "\n",
            "Respuesta 2\n",
            "El termino 16 es 775. \n",
            "El termino 17 es 874. \n",
            "El termino 18 es 979. \n",
            "El termino 19 es 1090. \n",
            "El termino 20 es 1207. \n"
          ]
        }
      ],
      "source": [
        "def a(n):\n",
        "    return 3*n**2+7\n",
        "\n",
        "print('Respuesta 1')\n",
        "for i in range(5):\n",
        "    i=i+1;\n",
        "    print(f'El termino {i} es {a(i)}. ')\n",
        "print(\"\")\n",
        "\n",
        "print('Respuesta 2')    \n",
        "for i in range(16,21):\n",
        "    print(f'El termino {i} es {a(i)}. ')\n",
        "    \n",
        "\n"
      ]
    },
    {
      "cell_type": "markdown",
      "metadata": {
        "id": "MpHLoYWfk97E"
      },
      "source": [
        "# Problema 2"
      ]
    },
    {
      "cell_type": "markdown",
      "metadata": {
        "id": "TdrPqS7Mk_l0"
      },
      "source": [
        "Considere la sucesión $g_{n} = 5n^{3}$. Implemente un código en *Python* que muestre en pantalla:\n",
        "\n",
        "1. Los primeros $4$ términos de la sucesión.\n",
        "2. Los $4$ términos que vienen inmediatamente después del octavo término.\n",
        "3. Determinar si el término $40.000$ pertenece a la sucesión. Si es así, indicar en qué posición se encuentra."
      ]
    },
    {
      "cell_type": "code",
      "execution_count": 1,
      "metadata": {},
      "outputs": [
        {
          "name": "stdout",
          "output_type": "stream",
          "text": [
            "Respuesta 1\n",
            "El termino 1 es 5.\n",
            "El termino 2 es 40.\n",
            "El termino 3 es 135.\n",
            "El termino 4 es 320.\n",
            "El termino 5 es 625.\n",
            "\n",
            "Respuesta 2\n",
            "El termino 9 es 3645.\n",
            "El termino 10 es 5000.\n",
            "El termino 11 es 6655.\n",
            "El termino 12 es 8640.\n",
            "\n",
            "Respuesta 3.\n",
            "El valor del termino 40000 pertenece a la posicion  o lugar 20.\n"
          ]
        }
      ],
      "source": [
        "from scipy.optimize import fsolve\n",
        "def g(n):\n",
        "    return 5*n**3\n",
        "\n",
        "print('Respuesta 1')\n",
        "for i in range(5):\n",
        "    i=i+1\n",
        "    print(f'El termino {i} es {g(i)}.')\n",
        "print('')\n",
        "\n",
        "print('Respuesta 2')\n",
        "for i in range(9,13):\n",
        "    print(f'El termino {i} es {g(i)}.')\n",
        "print('')\n",
        "\n",
        "print('Respuesta 3.')\n",
        "vfinal=40000\n",
        "n=0\n",
        "expresion=0\n",
        "dif=vfinal-expresion\n",
        "\n",
        "while dif>0:\n",
        "    n=n+1\n",
        "    expresion=5*n**3\n",
        "    dif=vfinal-expresion\n",
        "    \n",
        "print(f'El valor del termino 40000 pertenece a la posicion  o lugar {n}.')\n",
        "\n",
        "\n"
      ]
    },
    {
      "cell_type": "markdown",
      "metadata": {
        "id": "7GDU-KDLuR7i"
      },
      "source": [
        "# Problema 3"
      ]
    },
    {
      "cell_type": "markdown",
      "metadata": {
        "id": "GG1duXd1uU6Z"
      },
      "source": [
        "La sucesión de Fibonacci es una serie de números en la que cada número, desde el tercero en adelante, es la suma de los dos anteriores. Comienza con el $0$ y $1$, tal como se observa a continuación:\n",
        "\n",
        "$$0, 1, 1, 2, 3, 5, 8, 13, ...$$\n",
        "\n",
        "Formalmente, la sucesión se define de la siguiente manera:\n",
        "\n",
        "\\begin{split}\n",
        "F(0) &= 0\\\\\n",
        "F(1) &= 1\\\\\n",
        "F(n) &= F(n - 1) + F(n - 2), \\ \\text{ para $n \\geq 2$}\n",
        "\\end{split}\n",
        "\n",
        "Esta sucesión se utiliza en una variedad de contextos en informática y algoritmos debido a sus propiedades matemáticas y patrones.\n",
        "\n",
        "1. Implementa un código en *Python* que muestre en pantalla los primeros $20$ términos de la sucesión.\n",
        "2. Calcula, utilizando un ciclo *for*, la suma de los primeros $30$ términos de la sucesión de Fibonacci."
      ]
    },
    {
      "cell_type": "code",
      "execution_count": 17,
      "metadata": {},
      "outputs": [
        {
          "name": "stdout",
          "output_type": "stream",
          "text": [
            "Respuesta 1\n",
            "[0, 1, 1, 2, 3, 5, 8, 13, 21, 34, 55, 89, 144, 233, 377, 610, 987, 1597, 2584, 4181]\n",
            "Respuesta 2\n",
            "La suma de los primeros 30 terminos es 1346268\n"
          ]
        }
      ],
      "source": [
        "print('Respuesta 1')\n",
        "def F(n):\n",
        "    if n<=1:\n",
        "        return n\n",
        "    else:\n",
        "        return F(n-1)+F(n-2)\n",
        "    \n",
        "n=20\n",
        "s_f=[F(i) for i in range(n)]\n",
        "print(s_f)\n",
        "\n",
        "print('Respuesta 2')\n",
        "n=30\n",
        "s_f=[F(i) for i in range(n)]\n",
        "suma=sum(s_f)\n",
        "print(f'La suma de los primeros 30 terminos es {suma}')\n",
        "\n",
        "\n"
      ]
    },
    {
      "cell_type": "markdown",
      "metadata": {
        "id": "OFL3b7nt8Rq_"
      },
      "source": [
        "# Problema 4"
      ]
    },
    {
      "cell_type": "markdown",
      "metadata": {
        "id": "j5QlZQwJSDsZ"
      },
      "source": [
        "Implementa un código que permita guardar en una lista la sucesión de los primeros $n$ números pares, con $n \\geq 1$. Luego, determina:\n",
        "\n",
        "1. ¿Cuál es el valor del décimo término?\n",
        "2. Calcula, utilizando un ciclo *for*, la suma de los primeros $100$ números pares.\n",
        "3. ¿En qué posición se encuentra el número $58$ dentro de la sucesión?"
      ]
    },
    {
      "cell_type": "code",
      "execution_count": 3,
      "metadata": {},
      "outputs": [
        {
          "name": "stdout",
          "output_type": "stream",
          "text": [
            "Respuesta 1.\n",
            "El decimo termino es 20\n",
            "Respuesta 2\n",
            "La suma de los primeros 100 terminos es 10100\n",
            "Respuesta 3\n",
            "El valor 58 esta en la posicion 29\n",
            "[2, 4, 6, 8, 10, 12, 14, 16, 18, 20]\n"
          ]
        }
      ],
      "source": [
        "print('Respuesta 1.')\n",
        "\n",
        "\n",
        "n_p=[n for n in range(2,22,2)]\n",
        "print(f'El decimo termino es {n_p[9]}')\n",
        "\n",
        "print('Respuesta 2')\n",
        "n_p=[n for n in range(2,202,2)]\n",
        "suma=sum(n_p)\n",
        "print(f'La suma de los primeros 100 terminos es {suma}')\n",
        "\n",
        "print('Respuesta 3')\n",
        "vfinal=58\n",
        "n=0\n",
        "termino=0\n",
        "dif=vfinal-termino\n",
        "\n",
        "while dif >0:\n",
        "    n=n+1\n",
        "    termino=2*n\n",
        "    dif=vfinal-termino\n",
        "print(f'El valor 58 esta en la posicion {n}')\n",
        "\n",
        "#Ejemplo\n",
        "a=[]\n",
        "n=0\n",
        "for i in range(10):\n",
        "    n=n+1\n",
        "    a.append(2+2*(n-1))\n",
        "print(a)\n",
        "\n"
      ]
    },
    {
      "cell_type": "markdown",
      "metadata": {
        "id": "gBcDYpK2Z3GT"
      },
      "source": [
        "# Problema 5"
      ]
    },
    {
      "cell_type": "markdown",
      "metadata": {
        "id": "eS3i68R4Z6YQ"
      },
      "source": [
        "Un nuevo software tiene $500$ usuarios y se espera que el número de usuarios crezca un $15\\%$ respecto al mes anterior. Considere que $b_{n}$ es el número de usuarios transcurridos $n$ meses.\n",
        "\n",
        "1. Calcula cuántos usuarios tendrá el software al cabo de tres meses. ¿Y al cabo de seis meses?\n",
        "2. Mediante un código en *Pyhton* muestra la cantidad de usuarios que tendrá el software cada mes durante el primer año.\n",
        "2. ¿Cuántos usuarios tendrá en total el software luego de un año? Utilice ciclos *for* para calcular."
      ]
    },
    {
      "cell_type": "code",
      "execution_count": 11,
      "metadata": {},
      "outputs": [
        {
          "name": "stdout",
          "output_type": "stream",
          "text": [
            "Respuesta 1\n",
            "A los 3 meses hay 760 usuarios.\n",
            "A los 6 meses hay 1157 usuarios.\n",
            "Respuesta 2\n",
            "Al mes 1 hay 575 usuarios.\n",
            "Al mes 2 hay 661 usuarios.\n",
            "Al mes 3 hay 760 usuarios.\n",
            "Al mes 4 hay 875 usuarios.\n",
            "Al mes 5 hay 1006 usuarios.\n",
            "Al mes 6 hay 1157 usuarios.\n",
            "Al mes 7 hay 1330 usuarios.\n",
            "Al mes 8 hay 1530 usuarios.\n",
            "Al mes 9 hay 1759 usuarios.\n",
            "Al mes 10 hay 2023 usuarios.\n",
            "Al mes 11 hay 2326 usuarios.\n",
            "Al mes 12 hay 2675 usuarios.\n",
            "Respuesta 3\n",
            "El total de usuarios es de 16676.\n"
          ]
        }
      ],
      "source": [
        "print('Respuesta 1')\n",
        "r=1.15\n",
        "b0=500\n",
        "b1=500*1.15\n",
        "\n",
        "\n",
        "def b_n(n):\n",
        "    return 575*1.15**(n-1) #Expresion geometrica\n",
        "\n",
        "print(f'A los 3 meses hay {b_n(3):.0f} usuarios.')\n",
        "print(f'A los 6 meses hay {b_n(6):.0f} usuarios.')\n",
        "\n",
        "print('Respuesta 2')\n",
        "\n",
        "b=[]\n",
        "for i in range(12):\n",
        "    n=i+1\n",
        "    b.append(b_n(n))\n",
        "    print(f'Al mes {n} hay {b[i]:.0f} usuarios.')\n",
        "    \n",
        "print('Respuesta 3')\n",
        "\n",
        "total=sum(b)\n",
        "print(f'El total de usuarios es de {round(total)}.')\n",
        "    "
      ]
    },
    {
      "cell_type": "markdown",
      "metadata": {
        "id": "s2hruXWnJDbS"
      },
      "source": [
        "# Problema 6"
      ]
    },
    {
      "cell_type": "markdown",
      "metadata": {
        "id": "hH_VNmA_Og0U"
      },
      "source": [
        "Un estudiante de ingeniería informática planea ahorrar para un proyecto personal. Para esto, el primer mes deposita $\\$12.000$ y cada mes aumenta el depósito en $\\$2.000$. Considere que $a_{i}$ corresponde al depósito mensual del estudiante. Determine:\n",
        "\n",
        "1. Implementa un código que permita mostrar en pantalla lo que depositó mensualmente durante el primer año.\n",
        "2. ¿Cuánto depositó el estudiante en febrero del segundo año?\n",
        "3. ¿Cuál será el total ahorrado al finalizar dos años?"
      ]
    },
    {
      "cell_type": "code",
      "execution_count": 29,
      "metadata": {},
      "outputs": [
        {
          "name": "stdout",
          "output_type": "stream",
          "text": [
            "Respuesta 1\n",
            "Al mes 1 ahorró $12000.\n",
            "Al mes 2 ahorró $14000.\n",
            "Al mes 3 ahorró $16000.\n",
            "Al mes 4 ahorró $18000.\n",
            "Al mes 5 ahorró $20000.\n",
            "Al mes 6 ahorró $22000.\n",
            "Al mes 7 ahorró $24000.\n",
            "Al mes 8 ahorró $26000.\n",
            "Al mes 9 ahorró $28000.\n",
            "Al mes 10 ahorró $30000.\n",
            "Al mes 11 ahorró $32000.\n",
            "Al mes 12 ahorró $34000.\n",
            "Respuesta 2\n",
            " El estudiante desposito $38000 en febrero del segundo año.\n",
            "Respuesta 3\n",
            "El total ahorrado al finalizar dos años es de $840000\n"
          ]
        }
      ],
      "source": [
        "print('Respuesta 1')\n",
        "\n",
        "#Sucesion Aritmetica\n",
        "#an=12000+2000(n-1)\n",
        "\n",
        "a=[]\n",
        "for i in range(12):\n",
        "    n=i+1\n",
        "    a.append(12000+2000*(n-1))\n",
        "    print(f'Al mes {n} ahorró ${a[i]}.')\n",
        "    \n",
        "\n",
        "print('Respuesta 2')\n",
        "\n",
        "febrero=12000+2000*(14-1)\n",
        "print(f' El estudiante desposito ${febrero} en febrero del segundo año.')\n",
        "\n",
        "print('Respuesta 3')\n",
        "a=[]\n",
        "for i in range(24):\n",
        "    n=i+1\n",
        "    a.append(12000+2000*(n-1))\n",
        "total=sum(a)\n",
        "print(f'El total ahorrado al finalizar dos años es de ${total}')"
      ]
    },
    {
      "cell_type": "markdown",
      "metadata": {
        "id": "G9sEfl4rB3e8"
      },
      "source": [
        "# Problema 7"
      ]
    },
    {
      "cell_type": "markdown",
      "metadata": {
        "id": "KZUNnG20CT4F"
      },
      "source": [
        "Por lo general, los proyectos son organizados en varias etapas que deben completarse secuencialmente.\n",
        "\n",
        "La fase inicial de un proyecto de software tiene una duración de $3$ meses y cada fase subsecuente reduce su duración en un $10 \\%$ debido a la experiencia ganada. Determine:\n",
        "\n",
        "1. ¿Cuánto dura la quinta fase?\n",
        "2. Calcula la duración total del proyecto después de $10$ fases."
      ]
    },
    {
      "cell_type": "code",
      "execution_count": 67,
      "metadata": {},
      "outputs": [
        {
          "name": "stdout",
          "output_type": "stream",
          "text": [
            "Respuesta 1\n",
            "La duración de la quinta fase es: 2.0 meses\n",
            "Respuesta 2\n",
            "La duracion total del proyecto despues de 10 fases es de 19.5 meses.\n"
          ]
        }
      ],
      "source": [
        "print('Respuesta 1')\n",
        "\n",
        "print(f\"La duración de la quinta fase es: {3*0.9**(5-1):.1f} meses\")\n",
        "\n",
        "\n",
        "print('Respuesta 2')\n",
        "\n",
        "a = []\n",
        "\n",
        "for i in range(10):\n",
        "    n=i+1\n",
        "    a.append(3*0.9**(n-1))\n",
        "\n",
        "total=sum(a)  \n",
        "print(f'La duracion total del proyecto despues de 10 fases es de {total:.1f} meses.')\n",
        "\n",
        "\n"
      ]
    },
    {
      "cell_type": "markdown",
      "metadata": {
        "id": "keVOy_xIlU1E"
      },
      "source": [
        "# Problema 8"
      ]
    },
    {
      "cell_type": "markdown",
      "metadata": {
        "id": "QXrNG-zulXil"
      },
      "source": [
        "En una sucesión aritmética, la diferencia entre un término y el anterior es $4$ y el décimo término es $-20$. Determine:\n",
        "\n",
        "1. El primer término de la sucesión.\n",
        "2. La expresión del término de lugar $n$.\n",
        "3. Utilice un código en *Python* para calcular el término que ocupa el lugar $100$.\n",
        "4. Determinar la posición del número $1.680$ en la secuencia. Calcule utilizando un ciclo *while*."
      ]
    },
    {
      "cell_type": "code",
      "execution_count": 21,
      "metadata": {},
      "outputs": [
        {
          "name": "stdout",
          "output_type": "stream",
          "text": [
            "Respuesta 1\n",
            "El primer termino de la sucesion es -56\n",
            "Respuesta 2\n",
            "La expresion es an = -56 +4(n -1)\n",
            "Respuesta 3\n",
            "El termino del lugar 100 es 340\n",
            "Respuesta 4\n",
            "La posicion del termino 1680 es 435\n"
          ]
        }
      ],
      "source": [
        "print('Respuesta 1')\n",
        "#el primer termino de la sucesion\n",
        "# -20 = a1 + 4 * (10-1)\n",
        "# -20 = a1 + 4*9\n",
        "# -20 = a1 + 36\n",
        "# a1 = -20 - 36\n",
        "# a1 = -56\n",
        "\n",
        "print('El primer termino de la sucesion es -56')\n",
        "\n",
        "print('Respuesta 2')\n",
        "print(f'La expresion es an = -56 +4(n -1)') #an = el valor de termino, -56= el primer termino, n = el lugar del termino\n",
        "\n",
        "print('Respuesta 3')\n",
        "print(f'El termino del lugar 100 es {-56 + 4 *(100-1)}')\n",
        "\n",
        "print('Respuesta 4')\n",
        "\n",
        "n = 0\n",
        "termino= 0 \n",
        "valor_final = 1680\n",
        "dif = valor_final - termino\n",
        "\n",
        "while dif > 0:\n",
        "    n=n+1\n",
        "    termino = -56 + 4 * (n - 1)\n",
        "    dif = valor_final - termino\n",
        "    \n",
        "print(f'La posicion del termino 1680 es {n}')\n"
      ]
    },
    {
      "cell_type": "markdown",
      "metadata": {
        "id": "gFYqGSbdqoqT"
      },
      "source": [
        "# Problema 9"
      ]
    },
    {
      "cell_type": "markdown",
      "metadata": {
        "id": "UtblbNCYqxOM"
      },
      "source": [
        "El tercer término de una sucesión geométrica es $5$ y el sexto término es $40$. Determine:\n",
        "\n",
        "1. La razón geométrica de la sucesión.\n",
        "2. El primer término de la sucesión.\n",
        "3. La expresión del término de lugar $n$.\n",
        "4. Utilice un código en *Python* para calcular el término que ocupa el lugar $8$.\n",
        "4. ¿Qué lugar ocupa en esta sucesión el término $20.480$? Calcule utilizando un ciclo *while*."
      ]
    },
    {
      "cell_type": "markdown",
      "metadata": {
        "id": "Ju4J8uWfxQKk"
      },
      "source": [
        "# Problema 10"
      ]
    },
    {
      "cell_type": "markdown",
      "metadata": {
        "id": "F6FPVCXQxTMj"
      },
      "source": [
        "Una empresa de tecnología está optimizando sus servidores. Para ello, mide cada mes las transacciones por segundo (TPS) de sus servidores. Se ha obtenido que el segundo mes, el rendimiento del servidor es $1,2$ miles de TPS y el quinto mes, el rendimiento es de $2,7$ miles de TPS. Determina utilizando un código en *Python*:\n",
        "\n",
        "1. ¿Cuál es el rendimiento el noveno mes?\n",
        "2. ¿En qué mes el rendimiento es de $23,4$ miles de TPS?\n",
        "\n",
        "Utilice dos decimales para el cálculo."
      ]
    },
    {
      "cell_type": "markdown",
      "metadata": {
        "id": "jxQyaJXUCW7m"
      },
      "source": [
        "# Problema 11"
      ]
    },
    {
      "cell_type": "markdown",
      "metadata": {
        "id": "8LdxsBUwDfbf"
      },
      "source": [
        "Una aplicación de redes sociales inició el $1$ de enero y comenzó a ganar usuarios rápidamente. El $3$ de enero tenía $500$ usuarios y el $10$ de enero tenía $1.501$ usuarios. Si el número de usuarios sigue creciendo de manera constante, determine:\n",
        "\n",
        "1. ¿Con cuántos usuarios comenzó a funcionar la aplicación?\n",
        "2. ¿Cuántos usuarios tendrá la aplicación el $31$ de enero?\n",
        "3. Si la aplicación tiene $5.505$ usuarios, ¿cuántos meses lleva funcionando?\n",
        "\n"
      ]
    },
    {
      "cell_type": "markdown",
      "metadata": {
        "id": "zBN3BhYVLLSe"
      },
      "source": [
        "# Problema 12"
      ]
    },
    {
      "cell_type": "markdown",
      "metadata": {
        "id": "kszkhh_GLQN1"
      },
      "source": [
        "Una empresa de publicidad ofrece para un puesto de trabajo un salario inicial y un aumento mensual en una razón constante. Javier se presenta a la entrevista, y el encargado del departamento de recursos humanos le explica que en el segundo mes de trabajo su sueldo será de $\\$402.000$, y que en el tercer mes de trabajo será de $\\$404.010$. Determine:\n",
        "\n",
        "1. El salario aproximado que Javier recibiría en el décimo mes de trabajo en la empresa.\n",
        "2. ¿Cuál sería el ingreso total recibido por los sueldos de Javier durante el tercer año de trabajo?"
      ]
    },
    {
      "cell_type": "code",
      "execution_count": 5,
      "metadata": {},
      "outputs": [
        {
          "name": "stdout",
          "output_type": "stream",
          "text": [
            "Respuesta 1\n",
            "El salario aprox en el decimo mes es $418364\n",
            "Respuesta 2\n",
            "El sueldo total del tercer año es aproc $5561660\n"
          ]
        }
      ],
      "source": [
        "print('Respuesta 1')\n",
        "print(f'El salario aprox en el decimo mes es ${400000*1.005**(10-1):.0f}')\n",
        "print('Respuesta 2')\n",
        "\n",
        "gn=[]\n",
        "for i in range(12):\n",
        "    n=i+25\n",
        "    gn.append(400000*1.005**(n-1))\n",
        "    \n",
        "total = sum(gn)\n",
        "print(f'El sueldo total del tercer año es aproc ${round(total)}')"
      ]
    },
    {
      "cell_type": "markdown",
      "metadata": {
        "id": "-lx5k4b9Y8sD"
      },
      "source": [
        "# Problema 13"
      ]
    },
    {
      "cell_type": "markdown",
      "metadata": {
        "id": "OVuWQuXsY_pp"
      },
      "source": [
        "Una empresa de ciberseguridad capacita trabajadores cada trimestre. En el primer trimestre capacitaron a $30$ trabajadores, en el segundo trimestre a $60$ trabajadores, y en el tercer trimestre a $120$ trabajadores. Si en los siguientes trimestres la empresa mantiene el mismo patrón de crecimiento, determine utilizando *Python*:\n",
        "\n",
        "1. ¿A cuántos trabajadores capacitarán en el octavo trimestre?\n",
        "2. Si la empresa lleva en el mercado $3$ años, ¿a cuántos trabajadores han capacitado en total?"
      ]
    },
    {
      "cell_type": "code",
      "execution_count": 66,
      "metadata": {},
      "outputs": [
        {
          "name": "stdout",
          "output_type": "stream",
          "text": [
            "Respuesta 1\n",
            "En el octavo trimeste capacitaron a 3840 trabajadores\n",
            "Respuesta 2\n",
            "Si la empresa lleva en el mercado 3 años, el total de trabajadores seria de 122850 trabajadores capacitados.\n"
          ]
        }
      ],
      "source": [
        "print('Respuesta 1')\n",
        "def g(n):\n",
        "    return 30 * (2 ** (n-1))\n",
        "\n",
        "print(f'En el octavo trimeste capacitaron a {g(8)} trabajadores')\n",
        "\n",
        "\n",
        "\n",
        "\n",
        "print('Respuesta 2')\n",
        "\n",
        "def g(n):\n",
        "    return 30 * 2 ** (n-1)\n",
        "\n",
        "trimestres=[]\n",
        "for n in range(12):\n",
        "    n = n+1\n",
        "    trimestres.append(30 * (2 ** (n-1)))\n",
        "    \n",
        "total=sum(trimestres)\n",
        "    \n",
        "\n",
        "print(f'Si la empresa lleva en el mercado 3 años, el total de trabajadores seria de {total} trabajadores capacitados.')"
      ]
    },
    {
      "cell_type": "markdown",
      "metadata": {
        "id": "IM7Xf51G6AXs"
      },
      "source": [
        "# Problema 14"
      ]
    },
    {
      "cell_type": "markdown",
      "metadata": {
        "id": "Ni_4WMQl6OeV"
      },
      "source": [
        "Al llenar un tambor con agua, se registra que durante el minuto $4$ el tambor recibe $128$ litros, y durante el minuto $9$ recibe $88$ litros. Sabiendo que en cada minuto recibe una cantidad $d$ de litros de agua menos que en el minuto anterior, determine:\n",
        "\n",
        "1. ¿En qué instante el tambor deja de recibir agua?\n",
        "2. ¿Cuántos litros recibe en total el tambor?\n",
        "\n",
        "Realice los cálculos anteriores utilizando *Python*."
      ]
    }
  ],
  "metadata": {
    "colab": {
      "provenance": []
    },
    "kernelspec": {
      "display_name": "Python 3",
      "name": "python3"
    },
    "language_info": {
      "codemirror_mode": {
        "name": "ipython",
        "version": 3
      },
      "file_extension": ".py",
      "mimetype": "text/x-python",
      "name": "python",
      "nbconvert_exporter": "python",
      "pygments_lexer": "ipython3",
      "version": "3.12.5"
    }
  },
  "nbformat": 4,
  "nbformat_minor": 0
}
