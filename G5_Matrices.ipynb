{
  "cells": [
    {
      "cell_type": "markdown",
      "metadata": {
        "id": "UCCOMbmnLfHY"
      },
      "source": [
        "# Problema 1"
      ]
    },
    {
      "cell_type": "markdown",
      "metadata": {},
      "source": [
        "MATRICES\n",
        "\n",
        "Orden de datos en filas y columnas, siempre se definen con mayuscula y los elementos que la componen con su letra minuscula justo al numero de fila y columna.\n",
        "\n",
        "A = [a11, a12, a13\n",
        "     a21, a22, a23]\n",
        "\n",
        "El orden de una matriz es mencionar cuantas filas y columnas tiene.\n",
        "\n",
        "Orden A2x3\n",
        "\n",
        "i -> fila\n",
        "j -> columna\n",
        "\n",
        "cuando hay que llamar columnas y filas en python siempre hay que restarle uno, si es en la fila 3, llamas a la fila 2(lo mismo con las columnas)."
      ]
    },
    {
      "cell_type": "markdown",
      "metadata": {
        "id": "AHPLM97ONSwR"
      },
      "source": [
        "Las matrices $A$ y $B$ representan las ventas en dos años, en millones de dólares, de los tres productos de una empresa en las cuatro regiones en que está disponible. Es decir, $a_{ij}$ y $b_{ij}$ representan el monto de las ventas del producto $i$ en la región $j$ el primer y segundo año, respectivamente:\n",
        "\n",
        "<br>\n",
        "\n",
        "\\begin{split}\n",
        "A = \\begin{pmatrix}\n",
        " 2,6 &  4,8 &  1,8 & 0,9 \\\\\n",
        " 3,2 &  4,4 &  2,5 & 2,8 \\\\\n",
        " 2,4 &  3,6 &  3,8 & 2,5 \\\\\n",
        "\\end{pmatrix} \\text{ } B= \\begin{pmatrix}\n",
        " 3,6 &  2,5 &  3,0 & 2,5 \\\\\n",
        " 4,5 &  5,0 &  3,5 & 3,8 \\\\\n",
        " 2,9 &  3,0 &  4,6 & 4,0 \\\\\n",
        "\\end{pmatrix}\n",
        "\\end{split}\n",
        "\n",
        "<br>\n",
        "\n",
        "1. Indique el orden de cada matriz.\n",
        "2. Calcule la matriz $S = A + B$.\n",
        "3. Calcule la matriz $D = B - A$.\n",
        "4. Indique el valor e interprete los elementos $s_{24}$ y $d_{24}$.\n",
        "5. Para el tercer año de funcionamiento, los tres productos ahora están disponibles en seis regiones. Durante este año, las ventas de esta empresa estarán registradas en una matriz $E$. ¿Es posible determinar la matriz $T = A + B + E$? Justifique su respuesta."
      ]
    },
    {
      "cell_type": "code",
      "execution_count": 9,
      "metadata": {},
      "outputs": [
        {
          "name": "stdout",
          "output_type": "stream",
          "text": [
            "R1: El orden en ambas matrices es 3x4.\n",
            "R2: S=[[6.2 7.3 4.8 3.4]\n",
            " [7.7 9.4 6.  6.6]\n",
            " [5.3 6.6 8.4 6.5]]\n",
            "R3: D=[[ 1.  -2.3  1.2  1.6]\n",
            " [ 1.3  0.6  1.   1. ]\n",
            " [ 0.5 -0.6  0.8  1.5]]\n",
            "R4: s24= 6.6; El total de ventas del producto 2 en la region 4 contando los dos años es de 6.6 millones de dolares.\n",
            "    d24=1.0; En el segundo año las ventas del producto 2 en la region 4 aumentaron en un 1 millon de dolares.\n",
            "R5: \n"
          ]
        }
      ],
      "source": [
        "print('R1: El orden en ambas matrices es 3x4.')\n",
        "\n",
        "import numpy as np\n",
        "\n",
        "A = np.array([[2.6, 4.8, 1.8, 0.9],\n",
        "              [3.2, 4.4, 2.5, 2.8],\n",
        "              [2.4, 3.6, 3.8, 2.5]])\n",
        "\n",
        "B = np.array([[3.6, 2.5, 3, 2.5],\n",
        "              [4.5, 5, 3.5, 3.8],\n",
        "              [2.9, 3, 4.6, 4]])\n",
        "\n",
        "S = A + B\n",
        "print(f'R2: S={S}')\n",
        "\n",
        "D =B-A\n",
        "print(f'R3: D={D}')\n",
        "\n",
        "print(f'R4: s24= {S[1][3]}; El total de ventas del producto 2 en la region 4 contando los dos años es de 6.6 millones de dolares.')\n",
        "print(f'    d24={D[1][3]}; En el segundo año las ventas del producto 2 en la region 4 aumentaron en un 1 millon de dolares.')\n",
        "\n",
        "print('R5: No es posible determinar T porque la matriz E tiene un distinto orden (3x6).')"
      ]
    },
    {
      "cell_type": "markdown",
      "metadata": {
        "id": "MdVDj7xheCLm"
      },
      "source": [
        "# Problema 2"
      ]
    },
    {
      "cell_type": "markdown",
      "metadata": {
        "id": "CGrP79UpeM6k"
      },
      "source": [
        "Una fábrica con sucursales en Japón y China, produce tres tipos de componentes $j$, para cinco modelos de computador $i$. Los costos de producción mensual, en miles de dólares, de ambas sucursales se representan en las matrices $J$ y $C$, respectivamente:\n",
        "\n",
        "<br>\n",
        "\n",
        "\\begin{split}\n",
        "J = \\begin{pmatrix}\n",
        " 100 &  200 &  150  \\\\\n",
        " 120 &  210 &  170  \\\\\n",
        " 112 &  200 &  131  \\\\\n",
        " 124 &  310 &  170  \\\\\n",
        " 136 &  156 &  140  \\\\\n",
        "\\end{pmatrix} \\text{ } C = \\begin{pmatrix}\n",
        " 110 &  190 &  160  \\\\\n",
        " 130 &  220 &  180  \\\\\n",
        " 146 &  190 &  141  \\\\\n",
        " 143 &  312 &  163  \\\\\n",
        " 137 &  116 &  156  \\\\\n",
        "\\end{pmatrix}\n",
        "\\end{split}\n",
        "\n",
        "<br>\n",
        "\n",
        "1. ¿Cuál es el orden de las matrices?\n",
        "2. Inteprete el elemento $j_{21}$ y $c_{12}$ en el contexto del problema.\n",
        "3. Utilizando *Python*, calcule el costo total de producción para cada modelo, considerando ambas sucursales.\n",
        "4. Un trabajador indica que, en la sucursal japonesa, el costo de producción del producto $3$, modelo $4$ de computador, es más alto que en la sucursal china. ¿Tiene razón? Justifique apropiadamente."
      ]
    },
    {
      "cell_type": "code",
      "execution_count": 21,
      "metadata": {},
      "outputs": [
        {
          "name": "stdout",
          "output_type": "stream",
          "text": [
            "R1: El orden en ambas matrices es 5x3.\n",
            "R2:\n",
            "En la sucursal de Japon, el costo de produccion mensual del primer componente para el segundo modelo del computador es de 120 miles de dolares.\n",
            "En la sucursal de China, el costo de produccion mensual, del segundo componente para el primer modelo del computador es de 190 miles de dolares\n",
            "R3: [[210 390 310]\n",
            " [250 430 350]\n",
            " [258 390 272]\n",
            " [267 622 333]\n",
            " [273 272 296]]\n",
            "R4: El costo de produccion del producto 3, modelo 4 en Japon: 170 miles de dolares, China: 163 miles de dolares. El trabajador tiene razon ya que el costo es mal alto en la sucursal de Japon.\n"
          ]
        }
      ],
      "source": [
        "print('R1: El orden en ambas matrices es 5x3.')\n",
        "\n",
        "import numpy as np\n",
        "\n",
        "J = np.array([[100, 200, 150],\n",
        "              [120, 210, 170],\n",
        "              [112, 200, 131],\n",
        "              [124, 310, 170],\n",
        "              [136, 156, 140]])\n",
        "\n",
        "C = np.array([[110, 190, 160],\n",
        "              [130, 220, 180],\n",
        "              [146, 190, 141],\n",
        "              [143, 312, 163],\n",
        "              [137, 116, 156]])\n",
        "print('R2:')\n",
        "print(f'En la sucursal de Japon, el costo de produccion mensual del primer componente para el segundo modelo del computador es de {J[1][0]} miles de dolares.')\n",
        "print(f'En la sucursal de China, el costo de produccion mensual, del segundo componente para el primer modelo del computador es de {C[0][1]} miles de dolares')\n",
        "\n",
        "T = J + C\n",
        "print(f'R3: {T}')\n",
        "\n",
        "print(f'R4: El costo de produccion del producto 3, modelo 4 en Japon: {J[3][2]} miles de dolares, China: {C[3][2]} miles de dolares. El trabajador tiene razon ya que el costo es mal alto en la sucursal de Japon.')\n",
        "\n",
        "\n"
      ]
    },
    {
      "cell_type": "markdown",
      "metadata": {
        "id": "d1kLjxmU8En9"
      },
      "source": [
        "# Problema 3"
      ]
    },
    {
      "cell_type": "markdown",
      "metadata": {
        "id": "kpido2Zy8zg0"
      },
      "source": [
        "La empresa Beta tiene cinco plantas en Chile, y en cada una de ellas fabrica siete productos. El número de unidades del producto $i$ fabricadas en la planta $j$ en una semana está representado en la matriz $C$ en el elemento $c_{ij}$.\n",
        "\n",
        "<br>\n",
        "\n",
        "\\begin{split}\n",
        "C = \\begin{pmatrix}\n",
        " 120 &  200 &  155 &  125  &  230 \\\\\n",
        " 155 &  130 &  110 &  160  &  180 \\\\\n",
        " 140 &  205 &  150 &  125  &  155 \\\\\n",
        " 130 &  120 &  230 &  225  &  125 \\\\\n",
        " 135 &  70  &  190 &  175  &  95  \\\\\n",
        " 110 &  265 &  180 &  230  &  180 \\\\\n",
        " 185 &  85  &  120 &  135  &  150 \\\\\n",
        "\\end{pmatrix}\n",
        "\\end{split}\n",
        "\n",
        "<br>\n",
        "\n",
        "La empresa se expande, creando cinco plantas en Ecuador que producen los mismos siete productos. La producción semanal de esta filial estará representada por una matriz $E$.\n",
        "\n",
        "1. Si se sabe que los volúmenes de producción semanal de la filial en Ecuador son un $20\\%$ menor que en Chile, calcule la matriz $E$ utilizando *Python*.\n",
        "2. Si representamos la producción semanal total de la empresa Beta, considerando ambas filiales, por la matriz $T$, escriba la expresión que calcula cada elemento de la matriz $T$ usando notación matricial.\n",
        "3. Calcule la matriz $T$ utilizando *Python*.\n",
        "4. Interprete los elementos $c_{34}$ y $t_{72}$ en el contexto del problema."
      ]
    },
    {
      "cell_type": "code",
      "execution_count": 34,
      "metadata": {},
      "outputs": [
        {
          "name": "stdout",
          "output_type": "stream",
          "text": [
            "R1:\n",
            "E: [[ 96. 160. 124. 100. 184.]\n",
            " [124. 104.  88. 128. 144.]\n",
            " [112. 164. 120. 100. 124.]\n",
            " [104.  96. 184. 180. 100.]\n",
            " [108.  56. 152. 140.  76.]\n",
            " [ 88. 212. 144. 184. 144.]\n",
            " [148.  68.  96. 108. 120.]]\n",
            "R2 y R3: La Matriz T es:\n",
            " [[216. 360. 279. 225. 414.]\n",
            " [279. 234. 198. 288. 324.]\n",
            " [252. 369. 270. 225. 279.]\n",
            " [234. 216. 414. 405. 225.]\n",
            " [243. 126. 342. 315. 171.]\n",
            " [198. 477. 324. 414. 324.]\n",
            " [333. 153. 216. 243. 270.]]\n",
            "\n",
            "R4: En la fabrica 4 de Chile se fabricaron del productos 3: 125 unidades.\n",
            " El total de unidades del producto 7 que se fabricaron en las fabricas 2 de Chile y Ecuador es de 153 unidades.\n"
          ]
        }
      ],
      "source": [
        "C = np.array([[120, 200, 155, 125, 230],\n",
        "              [155, 130, 110, 160, 180],\n",
        "              [140, 205, 150, 125, 155],\n",
        "              [130, 120, 230, 225, 125],\n",
        "              [135, 70, 190, 175, 95],\n",
        "              [110, 265, 180, 230, 180],\n",
        "              [185, 85, 120, 135, 150]])\n",
        "\n",
        "E= C*0.8\n",
        "print('R1:')\n",
        "print(f'E: {E}')\n",
        "\n",
        "T = C+E\n",
        "\n",
        "print(f'R2 y R3: La Matriz T es:\\n {T}')\n",
        "\n",
        "print('')\n",
        "print(f'R4: En la fabrica 4 de Chile se fabricaron del productos 3: {C[2][3]} unidades.')\n",
        "print(f' El total de unidades del producto 7 que se fabricaron en las fabricas 2 de Chile y Ecuador es de {T[6][1]:.0f} unidades.')"
      ]
    },
    {
      "cell_type": "markdown",
      "metadata": {
        "id": "DZh7JytTJKsb"
      },
      "source": [
        "# Problema 4"
      ]
    },
    {
      "cell_type": "markdown",
      "metadata": {
        "id": "biNp7JeIJU2I"
      },
      "source": [
        "Una empresa que fabrica zapatos tiene dos plantas, una en Valparaíso y la otra en Temuco. La empresa produce zapatos de color negro, blanco y café, tanto para niños, damas como caballeros. La capacidad actual de producción mensual (en miles de pares) para Valparaíso y Temuco, están dadas por las matrices $V$ y $T$, respectivamente. Para ambas matrices, según el orden en que se mencionan, las filas corresponden al color del calzado y las columnas al tipo de persona que utilizará el calzado.\n",
        "\n",
        "<br>\n",
        "\n",
        "\\begin{split}\n",
        "V = \\begin{pmatrix}\n",
        " 30 &  34 &  20  \\\\\n",
        " 45 &  20 &  16  \\\\\n",
        " 14 &  26 &  25  \\\\\n",
        "\\end{pmatrix} \\text{ } T = \\begin{pmatrix}\n",
        " 35 &  30 &  26  \\\\\n",
        " 52 &  25 &  18  \\\\\n",
        " 23 &  24 &  32  \\\\\n",
        "\\end{pmatrix}\n",
        "\\end{split}\n",
        "\n",
        "<br>\n",
        "\n",
        "1. Determine la producción mensual total de ambas plantas, representándola en una matriz $A$. Utilice *Python* para resolver.\n",
        "2. Interprete el elemento $a_{21}$ en el contexto del problema.\n",
        "3. Si para el próximo año se estima que la producción en Valparaíso aumenta en un $30\\%$, mientras que la de Temuco se reduce en un $10\\%$, represente la nueva producción total en la matriz $B$.\n",
        "4. Interprete el elemento $b_{13}$ en el contexto del problema."
      ]
    },
    {
      "cell_type": "code",
      "execution_count": 22,
      "metadata": {},
      "outputs": [
        {
          "name": "stdout",
          "output_type": "stream",
          "text": [
            "R1: Matriz A: \n",
            "[[65 64 46]\n",
            " [97 45 34]\n",
            " [37 50 57]]\n",
            "\n",
            "Las ambas plantas de la empresa fabrica mensualmente 97 miles de pares de zapatos blancos para niños.\n",
            "\n",
            " Matriz B: \n",
            "[[ 70.5  71.2  49.4]\n",
            " [105.3  48.5  37. ]\n",
            " [ 38.9  55.4  61.3]]\n",
            "\n",
            "Se estima que el proximo año,ambas plantas fabricaran 49.4 miles de pares de zapatos negros para caballeros. \n"
          ]
        }
      ],
      "source": [
        "import numpy as np\n",
        "\n",
        "V =np.array([[30, 34, 20],\n",
        "             [45, 20, 16],\n",
        "             [14, 26, 25]])\n",
        "\n",
        "T =np.array([[35, 30, 26],\n",
        "             [52, 25, 18],\n",
        "             [23, 24, 32]])\n",
        "\n",
        "A = V + T\n",
        "\n",
        "print(f'R1: Matriz A: \\n{A}')\n",
        "print('')\n",
        "print(f'Las ambas plantas de la empresa fabrica mensualmente {A[1][0]} miles de pares de zapatos blancos para niños.')\n",
        "print('')\n",
        "\n",
        "B = 1.3*V + 0.9*T\n",
        "\n",
        "print(f' Matriz B: \\n{B}')\n",
        "print('')\n",
        "\n",
        "print(f'Se estima que el proximo año,ambas plantas fabricaran {B[0][2]:.1f} miles de pares de zapatos negros para caballeros.')"
      ]
    },
    {
      "cell_type": "markdown",
      "metadata": {
        "id": "eqY0UgBhQ1PL"
      },
      "source": [
        "# Problema 5"
      ]
    },
    {
      "cell_type": "markdown",
      "metadata": {
        "id": "6W2fcVlyU2Ze"
      },
      "source": [
        "Genere una matriz $M$ de orden $8 \\times 9$ donde cada término de la matriz está definido por:\n",
        "\n",
        "$$m_{ij} = 8i + 12j$$\n",
        "\n",
        "y calcule su transpuesta."
      ]
    },
    {
      "cell_type": "markdown",
      "metadata": {
        "id": "GzG5888JV5Yc"
      },
      "source": [
        "# Problema 6"
      ]
    },
    {
      "cell_type": "markdown",
      "metadata": {
        "id": "dHbVKHuLV71S"
      },
      "source": [
        "Genere dos matrices:\n",
        "\n",
        "*   Una matriz $A$ de orden $5 \\times 7$, con $a_{ij} = i \\cdot j.$\n",
        "*   Una matriz $B$ de orden $7 \\times 5$, con $b_{ij} = 15i - 2j.$\n",
        "\n",
        "y calcule $C = A^{T} + \\dfrac{1}{2}B$.\n",
        "\n"
      ]
    },
    {
      "cell_type": "markdown",
      "metadata": {
        "id": "HZJfudDGXjic"
      },
      "source": [
        "# Problema 7"
      ]
    },
    {
      "cell_type": "markdown",
      "metadata": {
        "id": "Z-C9zGeKYQ11"
      },
      "source": [
        "Una red de sensores recoge datos de temperatura ($°C$), humedad (porcentaje) y presión (hPa) en cinco días distintos (de lunes a viernes). Los datos medidos se muestran en la matriz $D$:\n",
        "\n",
        "<br>\n",
        "\n",
        "\\begin{equation*}\n",
        "\\begin{matrix}\n",
        "& \\begin{matrix}\n",
        " & Lu  \\ \\ &Ma \\ \\ &Mi \\ \\ & Ju \\ \\ &Vi\n",
        "\\end{matrix} \\\\\n",
        "&D = \\begin{pmatrix}\n",
        "20    &  28    &  22    &  26     &  24   \\\\\n",
        "52    &  57    &  56    &  54     &  58   \\\\\n",
        "1.066 &  1.068 &  1.066 &  1.064  &  1.068 \\\\\n",
        "\\end{pmatrix} & \\ \\begin{matrix}\n",
        "Cº\\\\\n",
        "\\% \\\\\n",
        "hPa\n",
        "\\end{matrix}\\\\\n",
        "\\end{matrix}\n",
        "\\end{equation*}\n",
        "\n",
        "<br>\n",
        "\n",
        "Se sabe que por un error de calibración de los sensores, las medidas registradas deberían ser un $5\\%$ menores que las registradas.\n",
        "\n",
        "1. Calcule en una matriz $S$ los valores correctos de temperatura, humedad y presión. Utilice *Python* para calcular.\n",
        "2. Obtenga la matriz $S^{T}$.\n",
        "3. Interprete los elementos $s_{24}$ y $s_{31}^{T}$.\n"
      ]
    },
    {
      "cell_type": "markdown",
      "metadata": {
        "id": "9py029xQlSq6"
      },
      "source": [
        "# Problema 8"
      ]
    },
    {
      "cell_type": "markdown",
      "metadata": {
        "id": "icNvmShQmtrx"
      },
      "source": [
        "Una empresa tecnológica vende software y hardware en tres productos: $P_{1}$, $P_{2}$ y $P_{3}$, en cuatro zonas de la capital: norte, sur, este y oeste. Las ventas del mes, en millones de pesos, están registradas en las matrices $S$ y $H$, para software y hardware respectivamente.\n",
        "\n",
        "<br>\n",
        "\n",
        "\\begin{split}\n",
        "S = \\begin{pmatrix}\n",
        " 260 &  480 &  180  &  90  \\\\\n",
        " 320 &  440 &  250  &  280 \\\\\n",
        " 240 &  360 &  380  &  250  \\\\\n",
        "\\end{pmatrix} \\text{ } H = \\begin{pmatrix}\n",
        " 360 &  250 &  300  &  250  \\\\\n",
        " 450 &  500 &  350  &  380 \\\\\n",
        " 290 &  300 &  460  &  400  \\\\\n",
        "\\end{pmatrix}\n",
        "\\end{split}\n",
        "\n",
        "<br>\n",
        "\n",
        "1. Calcule en la matriz $T$, del total de ventas de la empresa tecnológica.\n",
        "2. Un trabajador indica que este mes, la sucursal de la zona sur recaudó más por la venta hardware que software, ¿es correcta su afirmación?\n",
        "3. Debido al black friday se espera que el siguiente mes, las ventas de software aumenten un $7\\%$ y las de hardware aumenten un $3\\%$ respecto al mes actual. Encuentra en total de ventas esperadas para el siguiente mes y almacénalo en la matriz $M$. Utiliza *Python* para realizar los cálculos.\n",
        "4. Interpreta los elementos $t_{24}$ y $m_{31}$ en el contexto del problema.\n",
        "5. Calcula la matriz $M^{T}$ e interpreta el elemento $m_{41}^{T}$ en el contexto del problema.\n"
      ]
    }
  ],
  "metadata": {
    "colab": {
      "provenance": [],
      "toc_visible": true
    },
    "kernelspec": {
      "display_name": "Python 3",
      "name": "python3"
    },
    "language_info": {
      "codemirror_mode": {
        "name": "ipython",
        "version": 3
      },
      "file_extension": ".py",
      "mimetype": "text/x-python",
      "name": "python",
      "nbconvert_exporter": "python",
      "pygments_lexer": "ipython3",
      "version": "3.12.5"
    }
  },
  "nbformat": 4,
  "nbformat_minor": 0
}
