{
 "cells": [
  {
   "cell_type": "code",
   "execution_count": null,
   "metadata": {},
   "outputs": [],
   "source": [
    "#1\n"
   ]
  },
  {
   "cell_type": "code",
   "execution_count": null,
   "metadata": {},
   "outputs": [],
   "source": [
    "#2"
   ]
  },
  {
   "cell_type": "code",
   "execution_count": null,
   "metadata": {},
   "outputs": [],
   "source": [
    "#3"
   ]
  },
  {
   "cell_type": "code",
   "execution_count": null,
   "metadata": {},
   "outputs": [],
   "source": [
    "#4"
   ]
  },
  {
   "cell_type": "code",
   "execution_count": null,
   "metadata": {},
   "outputs": [],
   "source": [
    "#5 \n",
    "# S.Geometrica\n",
    "\n",
    "# 8528=a1*r**(5-1)\n",
    "# 1066=a1*r**1\n",
    "\n",
    "#Los terminos se dividen\n",
    "\n",
    "# 8=r**3\n",
    "\n",
    "#EXTRAER RAIZ\n",
    "\n",
    "# 2=r\n",
    "\n",
    "#Reemplazamos en 1066=a1*r**1\n",
    "\n",
    "# 1066= a1 * 2 ** 1\n",
    "# 1066= a1 * 2\n",
    "# 1066 / 2 = a1\n",
    "# 533 = a1\n",
    "\n",
    "#an = 533 * 2 **(n-1)\n",
    "print(533*2**(9-1))"
   ]
  },
  {
   "cell_type": "code",
   "execution_count": null,
   "metadata": {},
   "outputs": [],
   "source": [
    "#6\n",
    "n = 0\n",
    "termino = 0\n",
    "valorfinal = 34112\n",
    "dif = valorfinal - termino\n",
    "while dif > 0:\n",
    "    n = n + 1\n",
    "    termino = 533 *2**(n-1)\n",
    "    dif  = valorfinal - termino\n",
    "print(f'Mes numero: {n}')"
   ]
  },
  {
   "cell_type": "code",
   "execution_count": null,
   "metadata": {},
   "outputs": [],
   "source": [
    "#7\n",
    "print(\"\"\"\n",
    "Sucesion Aritmetica\n",
    "\n",
    "1396000 = a1 + d*(12-1)\n",
    "1108000 = a1 + d*(4-1)\n",
    "\n",
    "1396000 = a1 + 11d\n",
    "1108000 = a1 + 3d\n",
    "\n",
    "Los terminos se restan\n",
    "\n",
    "288000=8d\n",
    "288000/8=d\n",
    "36000=d\n",
    "\n",
    "Reemplazamos 1108000=a1+3d\n",
    "\n",
    "1108000=a1+3*36000\n",
    "1108000=a1+108000\n",
    "1108000-108000=a1\n",
    "1000000=a1\n",
    "\n",
    "an=1000000+36000*(n-1)\n",
    "\n",
    "\"\"\")\n",
    "\n",
    "print(1000000+36000*(24-1))"
   ]
  },
  {
   "cell_type": "code",
   "execution_count": 1,
   "metadata": {},
   "outputs": [
    {
     "name": "stdout",
     "output_type": "stream",
     "text": [
      "V=\n",
      "[[ 983200 1043800]\n",
      " [ 947400  965800]]\n"
     ]
    }
   ],
   "source": [
    "#8\n",
    "import numpy as np\n",
    "\n",
    "T = np.array([[300, 272, 240],\n",
    "              [260, 180, 324]])\n",
    "\n",
    "U = np.array([[1200, 1250],\n",
    "              [1100, 1400],\n",
    "              [1350, 1200]])\n",
    "\n",
    "V = T.dot(U)\n",
    "\n",
    "print(f'V=\\n{V}')"
   ]
  },
  {
   "cell_type": "code",
   "execution_count": 3,
   "metadata": {},
   "outputs": [
    {
     "name": "stdout",
     "output_type": "stream",
     "text": [
      "T=\n",
      "[[431. 565. 373. 644.]\n",
      " [657. 560. 740. 511.]\n",
      " [401. 527. 762. 723.]]\n"
     ]
    }
   ],
   "source": [
    "#12\n",
    "\n",
    "S=np.array([[360, 280, 150, 420],\n",
    "            [450, 370, 210, 130],\n",
    "            [240, 260, 320, 340]])\n",
    "\n",
    "C=np.array([[130, 310, 230, 280],\n",
    "            [270, 240, 520, 370],\n",
    "            [190, 290, 460, 410]])\n",
    "\n",
    "T=0.8*S+1.1*C\n",
    "print(f'T=\\n{T}')\n"
   ]
  },
  {
   "cell_type": "code",
   "execution_count": 4,
   "metadata": {},
   "outputs": [
    {
     "name": "stdout",
     "output_type": "stream",
     "text": [
      "[[ 540. 1080. 1620.]\n",
      " [ 660. 1320. 1980.]\n",
      " [ 780. 1560. 2340.]]\n"
     ]
    }
   ],
   "source": [
    "A=np.fromfunction(lambda i,j: 2*(i+1)+3*(j+1), (3,3))\n",
    "\n",
    "B=np.fromfunction(lambda i,j: 10*(i+1)*(j+1), (3,3))\n",
    "\n",
    "C=A.dot(B)\n",
    "print(C)"
   ]
  },
  {
   "cell_type": "code",
   "execution_count": null,
   "metadata": {},
   "outputs": [
    {
     "name": "stdout",
     "output_type": "stream",
     "text": [
      "[[4.]\n",
      " [2.]]\n"
     ]
    }
   ],
   "source": [
    "#14\n",
    "N=np.array([[2, 1],\n",
    "            [3, -2]])\n",
    "\n",
    "M=np.array([[10],\n",
    "            [8]])\n",
    "\n",
    "NI=np.linalg.inv(N)\n",
    "\n",
    "Sol=NI.dot(M)\n",
    "\n",
    "print(Sol)"
   ]
  },
  {
   "cell_type": "code",
   "execution_count": 11,
   "metadata": {},
   "outputs": [
    {
     "name": "stdout",
     "output_type": "stream",
     "text": [
      "[[ 2. -3.]\n",
      " [-1.  2.]]\n",
      "\n",
      "[[2 1]\n",
      " [3 2]]\n",
      "\n",
      "[[4 4]\n",
      " [4 4]]\n"
     ]
    }
   ],
   "source": [
    "#16\n",
    "A=np.array([[2, 3],\n",
    "            [1, 2]])\n",
    "\n",
    "AI=np.linalg.inv(A)\n",
    "print(AI)\n",
    "#17\n",
    "AT=A.T\n",
    "print('')\n",
    "print(AT)\n",
    "#19\n",
    "print('')\n",
    "T=A+AT\n",
    "print(T)"
   ]
  },
  {
   "cell_type": "code",
   "execution_count": null,
   "metadata": {},
   "outputs": [],
   "source": [
    "#20\n"
   ]
  }
 ],
 "metadata": {
  "kernelspec": {
   "display_name": "Python 3",
   "language": "python",
   "name": "python3"
  },
  "language_info": {
   "codemirror_mode": {
    "name": "ipython",
    "version": 3
   },
   "file_extension": ".py",
   "mimetype": "text/x-python",
   "name": "python",
   "nbconvert_exporter": "python",
   "pygments_lexer": "ipython3",
   "version": "3.12.5"
  }
 },
 "nbformat": 4,
 "nbformat_minor": 2
}
